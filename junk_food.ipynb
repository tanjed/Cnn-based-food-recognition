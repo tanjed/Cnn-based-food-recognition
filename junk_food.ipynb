{
  "nbformat": 4,
  "nbformat_minor": 0,
  "metadata": {
    "colab": {
      "name": "junk_food.ipynb",
      "provenance": [],
      "collapsed_sections": [],
      "toc_visible": true
    },
    "kernelspec": {
      "name": "python3",
      "display_name": "Python 3"
    },
    "accelerator": "GPU"
  },
  "cells": [
    {
      "cell_type": "code",
      "metadata": {
        "id": "CrFr0WQlQ7o1",
        "colab_type": "code",
        "colab": {}
      },
      "source": [
        "from google.colab import drive"
      ],
      "execution_count": 0,
      "outputs": []
    },
    {
      "cell_type": "code",
      "metadata": {
        "id": "K_BN2FprD_-R",
        "colab_type": "code",
        "outputId": "b3d6f494-02a9-4145-f4ae-c324b577ec69",
        "colab": {
          "base_uri": "https://localhost:8080/",
          "height": 33
        }
      },
      "source": [
        "location = //dataset repository link goes here\n",
        "!ls \"/content/gdrive/My Drive/colab/resized_data_set\""
      ],
      "execution_count": 0,
      "outputs": [
        {
          "output_type": "stream",
          "text": [
            "test  train\n"
          ],
          "name": "stdout"
        }
      ]
    },
    {
      "cell_type": "code",
      "metadata": {
        "id": "XK2JSpqtCnOo",
        "colab_type": "code",
        "outputId": "ec977959-676a-4227-a46f-c7920d85bc95",
        "colab": {
          "base_uri": "https://localhost:8080/",
          "height": 120
        }
      },
      "source": [
        "drive.mount('/content/gdrive')"
      ],
      "execution_count": 0,
      "outputs": [
        {
          "output_type": "stream",
          "text": [
            "Go to this URL in a browser: https://accounts.google.com/o/oauth2/auth?client_id=947318989803-6bn6qk8qdgf4n4g3pfee6491hc0brc4i.apps.googleusercontent.com&redirect_uri=urn%3Aietf%3Awg%3Aoauth%3A2.0%3Aoob&scope=email%20https%3A%2F%2Fwww.googleapis.com%2Fauth%2Fdocs.test%20https%3A%2F%2Fwww.googleapis.com%2Fauth%2Fdrive%20https%3A%2F%2Fwww.googleapis.com%2Fauth%2Fdrive.photos.readonly%20https%3A%2F%2Fwww.googleapis.com%2Fauth%2Fpeopleapi.readonly&response_type=code\n",
            "\n",
            "Enter your authorization code:\n",
            "··········\n",
            "Mounted at /content/gdrive\n"
          ],
          "name": "stdout"
        }
      ]
    },
    {
      "cell_type": "code",
      "metadata": {
        "id": "nWw81pG4Gc1q",
        "colab_type": "code",
        "colab": {}
      },
      "source": [
        ""
      ],
      "execution_count": 0,
      "outputs": []
    },
    {
      "cell_type": "code",
      "metadata": {
        "id": "7DOX_D9fCdkZ",
        "colab_type": "code",
        "outputId": "273d2639-a3a9-496f-eb18-5b2ba5349cf7",
        "colab": {
          "base_uri": "https://localhost:8080/",
          "height": 33
        }
      },
      "source": [
        "import os\n",
        "import matplotlib.pyplot as plt\n",
        "%matplotlib inline\n",
        "import numpy as np\n",
        "from sklearn.metrics import  confusion_matrix\n",
        "\n",
        "from __future__ import print_function\n",
        "\n",
        "import keras\n",
        "from keras import backend as K\n",
        "from IPython.display import SVG\n",
        "from keras.optimizers import Adam\n",
        "from keras.utils import plot_model\n",
        "from keras.models import Model, Sequential\n",
        "from keras.callbacks import ReduceLROnPlateau\n",
        "from keras.utils.vis_utils import model_to_dot\n",
        "from keras.utils.generic_utils import get_custom_objects\n",
        "from keras.preprocessing.image import ImageDataGenerator\n",
        "from keras.layers import Input, Conv2D, Dense, Flatten, MaxPool2D\n",
        "from keras.layers import Activation, Add, BatchNormalization, Dropout"
      ],
      "execution_count": 0,
      "outputs": [
        {
          "output_type": "stream",
          "text": [
            "Using TensorFlow backend.\n"
          ],
          "name": "stderr"
        }
      ]
    },
    {
      "cell_type": "markdown",
      "metadata": {
        "id": "cKs8xkREH9hp",
        "colab_type": "text"
      },
      "source": [
        "# New Section"
      ]
    },
    {
      "cell_type": "code",
      "metadata": {
        "id": "ll6xDwHoQwuK",
        "colab_type": "code",
        "outputId": "4d309fab-f8d0-4163-ac06-4f465dede382",
        "colab": {
          "base_uri": "https://localhost:8080/",
          "height": 137
        }
      },
      "source": [
        "model = Sequential()\n",
        " \n",
        "model.add(Conv2D(activation ='relu', input_shape = (32,32,3), filters=32, kernel_size=(3, 3), padding=\"SAME\", strides=(1, 1)))\n",
        " \n",
        "model.add(Conv2D(activation ='relu',filters=32, kernel_size=(3, 3), padding=\"SAME\", strides=(1,1)))\n",
        "model.add(MaxPool2D(pool_size=(2, 2), strides=(2, 2)))\n",
        " \n",
        "model.add(Conv2D(activation ='relu', filters=64, kernel_size=(3, 3), padding=\"SAME\", strides=(1, 1)))\n",
        "model.add(MaxPool2D(pool_size=(2, 2), strides=(2, 2)))\n",
        " \n",
        "# model.add(Dropout(0.25))\n",
        "model.add(BatchNormalization())\n",
        " \n",
        "model.add(Conv2D(activation ='relu',filters=128, kernel_size=(3, 3), padding=\"SAME\", strides=(1,1)))\n",
        "model.add(MaxPool2D(pool_size=(2, 2), strides=(2, 2)))\n",
        " \n",
        "\n",
        "model.add(Flatten())\n",
        "model.add(Dense(512, activation='relu'))\n",
        "model.add(Dropout(0.5))\n",
        "model.add(Dense(units = 5, activation='softmax'))\n",
        "\n",
        "\n"
      ],
      "execution_count": 0,
      "outputs": [
        {
          "output_type": "stream",
          "text": [
            "WARNING:tensorflow:From /usr/local/lib/python3.6/dist-packages/tensorflow/python/framework/op_def_library.py:263: colocate_with (from tensorflow.python.framework.ops) is deprecated and will be removed in a future version.\n",
            "Instructions for updating:\n",
            "Colocations handled automatically by placer.\n",
            "WARNING:tensorflow:From /usr/local/lib/python3.6/dist-packages/keras/backend/tensorflow_backend.py:3445: calling dropout (from tensorflow.python.ops.nn_ops) with keep_prob is deprecated and will be removed in a future version.\n",
            "Instructions for updating:\n",
            "Please use `rate` instead of `keep_prob`. Rate should be set to `rate = 1 - keep_prob`.\n"
          ],
          "name": "stdout"
        }
      ]
    },
    {
      "cell_type": "code",
      "metadata": {
        "id": "0-rpshWeCbwx",
        "colab_type": "code",
        "colab": {}
      },
      "source": [
        ""
      ],
      "execution_count": 0,
      "outputs": []
    },
    {
      "cell_type": "code",
      "metadata": {
        "id": "4oBeyfMIROCX",
        "colab_type": "code",
        "colab": {}
      },
      "source": [
        "optimizer = Adam(lr=0.001)\n",
        "model.compile(loss='categorical_crossentropy', optimizer = optimizer, metrics=[\"accuracy\"])"
      ],
      "execution_count": 0,
      "outputs": []
    },
    {
      "cell_type": "code",
      "metadata": {
        "id": "aFz2mJlNQ3RR",
        "colab_type": "code",
        "colab": {}
      },
      "source": [
        "train_datagen = ImageDataGenerator(\n",
        "                                    rotation_range=40,\n",
        "                                    width_shift_range=0.2,\n",
        "                                    height_shift_range=0.2,\n",
        "                                    rescale=1./255,\n",
        "                                    shear_range=0.2,\n",
        "                                    zoom_range=0.2,\n",
        "                                    horizontal_flip=True,\n",
        "                                    fill_mode='nearest')\n",
        "\n",
        "\n",
        "test_datagen = ImageDataGenerator(rotation_range=40,\n",
        "                                    width_shift_range=0.2,\n",
        "                                    height_shift_range=0.2,\n",
        "                                    rescale=1./255,\n",
        "                                    shear_range=0.2,\n",
        "                                    zoom_range=0.2,\n",
        "                                    horizontal_flip=True,\n",
        "                                    fill_mode='nearest')"
      ],
      "execution_count": 0,
      "outputs": []
    },
    {
      "cell_type": "code",
      "metadata": {
        "id": "7F7pt4oNQ_dt",
        "colab_type": "code",
        "outputId": "73bbb74f-4c5c-42cc-8e90-852ed8280d4c",
        "colab": {
          "base_uri": "https://localhost:8080/",
          "height": 70
        }
      },
      "source": [
        "train_generator = train_datagen.flow_from_directory(\n",
        "                                                    location+'/train/',\n",
        "                                                    target_size=(32, 32),\n",
        "                                                    batch_size=30,\n",
        "                                                    color_mode='rgb',\n",
        "                                                    class_mode='categorical')\n",
        "\n",
        "validation_generator = test_datagen.flow_from_directory(\n",
        "                                                    location+'/test',\n",
        "                                                    target_size=(32, 32),\n",
        "                                                    batch_size=30,\n",
        "                                                    color_mode='rgb',\n",
        "                                                    class_mode='categorical')\n"
      ],
      "execution_count": 0,
      "outputs": [
        {
          "output_type": "stream",
          "text": [
            "Found 1500 images belonging to 5 classes.\n",
            "Found 500 images belonging to 5 classes.\n",
            "{'beguni': 0, 'piyaju': 1, 'puri': 2, 'singara': 3, 'somosa': 4}\n"
          ],
          "name": "stdout"
        }
      ]
    },
    {
      "cell_type": "code",
      "metadata": {
        "id": "Wb4v0DMs8LBe",
        "colab_type": "code",
        "colab": {}
      },
      "source": [
        ""
      ],
      "execution_count": 0,
      "outputs": []
    },
    {
      "cell_type": "code",
      "metadata": {
        "id": "rPHe4xVrRA5F",
        "colab_type": "code",
        "colab": {}
      },
      "source": [
        "from PIL import ImageFile\n",
        "ImageFile.LOAD_TRUNCATED_IMAGES = True"
      ],
      "execution_count": 0,
      "outputs": []
    },
    {
      "cell_type": "markdown",
      "metadata": {
        "id": "8CVUc6kYFzol",
        "colab_type": "text"
      },
      "source": [
        ""
      ]
    },
    {
      "cell_type": "code",
      "metadata": {
        "id": "RQ0l3hdZRHIT",
        "colab_type": "code",
        "colab": {}
      },
      "source": [
        "learning_rate_reduction = ReduceLROnPlateau(monitor='val_acc', \n",
        "                                            patience=3, \n",
        "                                            verbose=1, \n",
        "                                            factor=0.5, \n",
        "                                            min_lr=0.000001)\n"
      ],
      "execution_count": 0,
      "outputs": []
    },
    {
      "cell_type": "code",
      "metadata": {
        "id": "xTiaEiglRIh1",
        "colab_type": "code",
        "outputId": "bf5b7abc-cb34-4094-d406-0728bc467720",
        "colab": {
          "base_uri": "https://localhost:8080/",
          "height": 2920
        }
      },
      "source": [
        "history = model.fit_generator(\n",
        "                    train_generator,\n",
        "                    steps_per_epoch=1500 /30,\n",
        "                    epochs=75,\n",
        "                    validation_data=validation_generator,\n",
        "                    validation_steps=50,\n",
        "                    verbose=1,\n",
        "                    callbacks=[learning_rate_reduction])"
      ],
      "execution_count": 0,
      "outputs": [
        {
          "output_type": "stream",
          "text": [
            "WARNING:tensorflow:From /usr/local/lib/python3.6/dist-packages/tensorflow/python/ops/math_ops.py:3066: to_int32 (from tensorflow.python.ops.math_ops) is deprecated and will be removed in a future version.\n",
            "Instructions for updating:\n",
            "Use tf.cast instead.\n",
            "Epoch 1/75\n",
            "50/50 [==============================] - 597s 12s/step - loss: 1.4436 - acc: 0.4660 - val_loss: 0.9712 - val_acc: 0.6588\n",
            "Epoch 2/75\n",
            "50/50 [==============================] - 6s 113ms/step - loss: 0.8233 - acc: 0.7133 - val_loss: 0.8831 - val_acc: 0.6483\n",
            "Epoch 3/75\n",
            "50/50 [==============================] - 6s 111ms/step - loss: 0.7328 - acc: 0.7333 - val_loss: 1.4138 - val_acc: 0.4973\n",
            "Epoch 4/75\n",
            "50/50 [==============================] - 6s 113ms/step - loss: 0.6933 - acc: 0.7593 - val_loss: 0.6550 - val_acc: 0.7551\n",
            "Epoch 5/75\n",
            "50/50 [==============================] - 6s 112ms/step - loss: 0.5906 - acc: 0.8093 - val_loss: 1.2409 - val_acc: 0.5190\n",
            "Epoch 6/75\n",
            "50/50 [==============================] - 6s 112ms/step - loss: 0.5953 - acc: 0.7953 - val_loss: 0.4442 - val_acc: 0.8354\n",
            "Epoch 7/75\n",
            "50/50 [==============================] - 6s 113ms/step - loss: 0.5589 - acc: 0.8140 - val_loss: 0.7629 - val_acc: 0.7041\n",
            "Epoch 8/75\n",
            "50/50 [==============================] - 6s 130ms/step - loss: 0.4673 - acc: 0.8313 - val_loss: 0.6681 - val_acc: 0.7463\n",
            "Epoch 9/75\n",
            "50/50 [==============================] - 6s 113ms/step - loss: 0.5083 - acc: 0.8140 - val_loss: 0.5254 - val_acc: 0.8075\n",
            "\n",
            "Epoch 00009: ReduceLROnPlateau reducing learning rate to 0.0005000000237487257.\n",
            "Epoch 10/75\n",
            "50/50 [==============================] - 6s 112ms/step - loss: 0.4738 - acc: 0.8287 - val_loss: 0.3442 - val_acc: 0.8850\n",
            "Epoch 11/75\n",
            "50/50 [==============================] - 6s 112ms/step - loss: 0.3700 - acc: 0.8640 - val_loss: 0.3013 - val_acc: 0.8878\n",
            "Epoch 12/75\n",
            "50/50 [==============================] - 6s 112ms/step - loss: 0.3576 - acc: 0.8713 - val_loss: 0.4789 - val_acc: 0.8218\n",
            "Epoch 13/75\n",
            "50/50 [==============================] - 6s 126ms/step - loss: 0.3535 - acc: 0.8653 - val_loss: 0.3063 - val_acc: 0.8980\n",
            "Epoch 14/75\n",
            "50/50 [==============================] - 6s 126ms/step - loss: 0.3490 - acc: 0.8693 - val_loss: 0.3081 - val_acc: 0.8871\n",
            "Epoch 15/75\n",
            "50/50 [==============================] - 6s 112ms/step - loss: 0.3402 - acc: 0.8860 - val_loss: 0.2882 - val_acc: 0.8939\n",
            "Epoch 16/75\n",
            "50/50 [==============================] - 6s 113ms/step - loss: 0.3461 - acc: 0.8813 - val_loss: 0.3910 - val_acc: 0.8755\n",
            "\n",
            "Epoch 00016: ReduceLROnPlateau reducing learning rate to 0.0002500000118743628.\n",
            "Epoch 17/75\n",
            "50/50 [==============================] - 6s 112ms/step - loss: 0.3265 - acc: 0.8827 - val_loss: 0.3038 - val_acc: 0.8939\n",
            "Epoch 18/75\n",
            "50/50 [==============================] - 6s 112ms/step - loss: 0.2840 - acc: 0.8887 - val_loss: 0.3273 - val_acc: 0.8757\n",
            "Epoch 19/75\n",
            "50/50 [==============================] - 6s 112ms/step - loss: 0.2940 - acc: 0.8780 - val_loss: 0.3859 - val_acc: 0.8633\n",
            "\n",
            "Epoch 00019: ReduceLROnPlateau reducing learning rate to 0.0001250000059371814.\n",
            "Epoch 20/75\n",
            "50/50 [==============================] - 6s 112ms/step - loss: 0.2570 - acc: 0.8993 - val_loss: 0.2749 - val_acc: 0.8918\n",
            "Epoch 21/75\n",
            "50/50 [==============================] - 6s 113ms/step - loss: 0.2480 - acc: 0.8987 - val_loss: 0.2773 - val_acc: 0.8952\n",
            "Epoch 22/75\n",
            "50/50 [==============================] - 6s 113ms/step - loss: 0.2453 - acc: 0.9053 - val_loss: 0.2642 - val_acc: 0.9014\n",
            "Epoch 23/75\n",
            "50/50 [==============================] - 6s 111ms/step - loss: 0.2501 - acc: 0.9120 - val_loss: 0.2835 - val_acc: 0.9027\n",
            "Epoch 24/75\n",
            "50/50 [==============================] - 6s 112ms/step - loss: 0.2596 - acc: 0.8967 - val_loss: 0.2671 - val_acc: 0.9075\n",
            "Epoch 25/75\n",
            "50/50 [==============================] - 6s 111ms/step - loss: 0.2636 - acc: 0.9020 - val_loss: 0.2492 - val_acc: 0.9088\n",
            "Epoch 26/75\n",
            "50/50 [==============================] - 6s 113ms/step - loss: 0.2359 - acc: 0.9107 - val_loss: 0.2705 - val_acc: 0.9075\n",
            "Epoch 27/75\n",
            "50/50 [==============================] - 6s 124ms/step - loss: 0.2482 - acc: 0.9053 - val_loss: 0.2734 - val_acc: 0.8993\n",
            "Epoch 28/75\n",
            "50/50 [==============================] - 6s 129ms/step - loss: 0.2437 - acc: 0.9080 - val_loss: 0.2372 - val_acc: 0.9197\n",
            "Epoch 29/75\n",
            "50/50 [==============================] - 6s 112ms/step - loss: 0.2474 - acc: 0.9053 - val_loss: 0.2585 - val_acc: 0.9116\n",
            "Epoch 30/75\n",
            "50/50 [==============================] - 6s 113ms/step - loss: 0.2312 - acc: 0.9113 - val_loss: 0.2541 - val_acc: 0.9184\n",
            "Epoch 31/75\n",
            "50/50 [==============================] - 6s 112ms/step - loss: 0.2485 - acc: 0.9047 - val_loss: 0.2545 - val_acc: 0.9061\n",
            "\n",
            "Epoch 00031: ReduceLROnPlateau reducing learning rate to 6.25000029685907e-05.\n",
            "Epoch 32/75\n",
            "50/50 [==============================] - 6s 112ms/step - loss: 0.2326 - acc: 0.9167 - val_loss: 0.2337 - val_acc: 0.9184\n",
            "Epoch 33/75\n",
            "50/50 [==============================] - 6s 112ms/step - loss: 0.2217 - acc: 0.9160 - val_loss: 0.2585 - val_acc: 0.9102\n",
            "Epoch 34/75\n",
            "50/50 [==============================] - 6s 112ms/step - loss: 0.2167 - acc: 0.9167 - val_loss: 0.2657 - val_acc: 0.9068\n",
            "\n",
            "Epoch 00034: ReduceLROnPlateau reducing learning rate to 3.125000148429535e-05.\n",
            "Epoch 35/75\n",
            "50/50 [==============================] - 6s 112ms/step - loss: 0.2120 - acc: 0.9193 - val_loss: 0.2442 - val_acc: 0.9115\n",
            "Epoch 36/75\n",
            "50/50 [==============================] - 6s 112ms/step - loss: 0.2145 - acc: 0.9147 - val_loss: 0.2333 - val_acc: 0.9095\n",
            "Epoch 37/75\n",
            "50/50 [==============================] - 6s 112ms/step - loss: 0.2045 - acc: 0.9220 - val_loss: 0.2381 - val_acc: 0.9068\n",
            "\n",
            "Epoch 00037: ReduceLROnPlateau reducing learning rate to 1.5625000742147677e-05.\n",
            "Epoch 38/75\n",
            "50/50 [==============================] - 6s 112ms/step - loss: 0.2057 - acc: 0.9267 - val_loss: 0.2359 - val_acc: 0.9143\n",
            "Epoch 39/75\n",
            "50/50 [==============================] - 6s 112ms/step - loss: 0.2078 - acc: 0.9233 - val_loss: 0.2428 - val_acc: 0.9075\n",
            "Epoch 40/75\n",
            "50/50 [==============================] - 6s 113ms/step - loss: 0.2074 - acc: 0.9187 - val_loss: 0.2213 - val_acc: 0.9143\n",
            "\n",
            "Epoch 00040: ReduceLROnPlateau reducing learning rate to 7.812500371073838e-06.\n",
            "Epoch 41/75\n",
            "50/50 [==============================] - 6s 123ms/step - loss: 0.2114 - acc: 0.9193 - val_loss: 0.2395 - val_acc: 0.9088\n",
            "Epoch 42/75\n",
            "50/50 [==============================] - 7s 131ms/step - loss: 0.2038 - acc: 0.9247 - val_loss: 0.2322 - val_acc: 0.9184\n",
            "Epoch 43/75\n",
            "50/50 [==============================] - 6s 112ms/step - loss: 0.2080 - acc: 0.9193 - val_loss: 0.2479 - val_acc: 0.9163\n",
            "\n",
            "Epoch 00043: ReduceLROnPlateau reducing learning rate to 3.906250185536919e-06.\n",
            "Epoch 44/75\n",
            "50/50 [==============================] - 6s 112ms/step - loss: 0.2076 - acc: 0.9193 - val_loss: 0.2345 - val_acc: 0.9211\n",
            "Epoch 45/75\n",
            "50/50 [==============================] - 6s 112ms/step - loss: 0.2135 - acc: 0.9240 - val_loss: 0.2394 - val_acc: 0.9197\n",
            "Epoch 46/75\n",
            "50/50 [==============================] - 6s 112ms/step - loss: 0.2166 - acc: 0.9167 - val_loss: 0.2412 - val_acc: 0.9109\n",
            "Epoch 47/75\n",
            "50/50 [==============================] - 6s 113ms/step - loss: 0.2048 - acc: 0.9227 - val_loss: 0.2352 - val_acc: 0.9265\n",
            "Epoch 48/75\n",
            "50/50 [==============================] - 7s 134ms/step - loss: 0.1908 - acc: 0.9347 - val_loss: 0.2393 - val_acc: 0.9088\n",
            "Epoch 49/75\n",
            "50/50 [==============================] - 6s 128ms/step - loss: 0.2229 - acc: 0.9113 - val_loss: 0.2441 - val_acc: 0.9170\n",
            "Epoch 50/75\n",
            "50/50 [==============================] - 6s 113ms/step - loss: 0.2033 - acc: 0.9213 - val_loss: 0.2374 - val_acc: 0.9122\n",
            "\n",
            "Epoch 00050: ReduceLROnPlateau reducing learning rate to 1.9531250927684596e-06.\n",
            "Epoch 51/75\n",
            "50/50 [==============================] - 6s 112ms/step - loss: 0.1946 - acc: 0.9287 - val_loss: 0.2501 - val_acc: 0.9122\n",
            "Epoch 52/75\n",
            "50/50 [==============================] - 6s 112ms/step - loss: 0.2061 - acc: 0.9240 - val_loss: 0.2342 - val_acc: 0.9182\n",
            "Epoch 53/75\n",
            "50/50 [==============================] - 6s 112ms/step - loss: 0.2090 - acc: 0.9240 - val_loss: 0.2461 - val_acc: 0.9116\n",
            "\n",
            "Epoch 00053: ReduceLROnPlateau reducing learning rate to 1e-06.\n",
            "Epoch 54/75\n",
            "50/50 [==============================] - 6s 112ms/step - loss: 0.2004 - acc: 0.9260 - val_loss: 0.2376 - val_acc: 0.9150\n",
            "Epoch 55/75\n",
            "50/50 [==============================] - 6s 128ms/step - loss: 0.2044 - acc: 0.9207 - val_loss: 0.2396 - val_acc: 0.9190\n",
            "Epoch 56/75\n",
            "50/50 [==============================] - 6s 125ms/step - loss: 0.2129 - acc: 0.9127 - val_loss: 0.2309 - val_acc: 0.9238\n",
            "Epoch 57/75\n",
            "50/50 [==============================] - 6s 113ms/step - loss: 0.1924 - acc: 0.9320 - val_loss: 0.2360 - val_acc: 0.9129\n",
            "Epoch 58/75\n",
            "50/50 [==============================] - 6s 112ms/step - loss: 0.2101 - acc: 0.9187 - val_loss: 0.2288 - val_acc: 0.9143\n",
            "Epoch 59/75\n",
            "50/50 [==============================] - 6s 112ms/step - loss: 0.2082 - acc: 0.9273 - val_loss: 0.2425 - val_acc: 0.9095\n",
            "Epoch 60/75\n",
            "50/50 [==============================] - 6s 113ms/step - loss: 0.1921 - acc: 0.9227 - val_loss: 0.2431 - val_acc: 0.9088\n",
            "Epoch 61/75\n",
            "50/50 [==============================] - 6s 129ms/step - loss: 0.1966 - acc: 0.9247 - val_loss: 0.2306 - val_acc: 0.9136\n",
            "Epoch 62/75\n",
            "50/50 [==============================] - 6s 113ms/step - loss: 0.2141 - acc: 0.9153 - val_loss: 0.2469 - val_acc: 0.9129\n",
            "Epoch 63/75\n",
            "50/50 [==============================] - 6s 112ms/step - loss: 0.2004 - acc: 0.9313 - val_loss: 0.2480 - val_acc: 0.9088\n",
            "Epoch 64/75\n",
            "50/50 [==============================] - 6s 112ms/step - loss: 0.1928 - acc: 0.9300 - val_loss: 0.2258 - val_acc: 0.9170\n",
            "Epoch 65/75\n",
            "50/50 [==============================] - 6s 111ms/step - loss: 0.2052 - acc: 0.9227 - val_loss: 0.2331 - val_acc: 0.9109\n",
            "Epoch 66/75\n",
            "50/50 [==============================] - 6s 112ms/step - loss: 0.2109 - acc: 0.9207 - val_loss: 0.2354 - val_acc: 0.9177\n",
            "Epoch 67/75\n",
            "50/50 [==============================] - 6s 112ms/step - loss: 0.2014 - acc: 0.9287 - val_loss: 0.2438 - val_acc: 0.9122\n",
            "Epoch 68/75\n",
            "50/50 [==============================] - 6s 112ms/step - loss: 0.2103 - acc: 0.9187 - val_loss: 0.2339 - val_acc: 0.9156\n",
            "Epoch 69/75\n",
            "50/50 [==============================] - 6s 130ms/step - loss: 0.2050 - acc: 0.9193 - val_loss: 0.2341 - val_acc: 0.9209\n",
            "Epoch 70/75\n",
            "50/50 [==============================] - 6s 124ms/step - loss: 0.2266 - acc: 0.9047 - val_loss: 0.2429 - val_acc: 0.9184\n",
            "Epoch 71/75\n",
            "50/50 [==============================] - 6s 112ms/step - loss: 0.2161 - acc: 0.9107 - val_loss: 0.2422 - val_acc: 0.9109\n",
            "Epoch 72/75\n",
            "50/50 [==============================] - 6s 112ms/step - loss: 0.2094 - acc: 0.9200 - val_loss: 0.2368 - val_acc: 0.9156\n",
            "Epoch 73/75\n",
            "50/50 [==============================] - 6s 112ms/step - loss: 0.2317 - acc: 0.9133 - val_loss: 0.2450 - val_acc: 0.9143\n",
            "Epoch 74/75\n",
            "50/50 [==============================] - 6s 112ms/step - loss: 0.2199 - acc: 0.9193 - val_loss: 0.2314 - val_acc: 0.9252\n",
            "Epoch 75/75\n",
            "50/50 [==============================] - 6s 112ms/step - loss: 0.1992 - acc: 0.9213 - val_loss: 0.2426 - val_acc: 0.9122\n"
          ],
          "name": "stdout"
        }
      ]
    },
    {
      "cell_type": "code",
      "metadata": {
        "id": "ZqgSfY7ARKU3",
        "colab_type": "code",
        "outputId": "e551a707-06f0-4549-d9ce-2669b7285baa",
        "colab": {
          "base_uri": "https://localhost:8080/",
          "height": 268
        }
      },
      "source": [
        "# Plot the loss and accuracy curves for training and validation \n",
        "fig, ax = plt.subplots(2,1)\n",
        "ax[0].plot(history.history['loss'], color='b', label=\"Training loss\")\n",
        "ax[0].plot(history.history['val_loss'], color='r', label=\"validation loss\",axes =ax[0])\n",
        "legend = ax[0].legend(loc='best', shadow=True)\n",
        "\n",
        "ax[1].plot(history.history['acc'], color='b', label=\"Training accuracy\")\n",
        "ax[1].plot(history.history['val_acc'], color='r',label=\"Validation accuracy\")\n",
        "legend = ax[1].legend(loc='best', shadow=True)"
      ],
      "execution_count": 0,
      "outputs": [
        {
          "output_type": "display_data",
          "data": {
            "image/png": "[encoded data removed]",
            "text/plain": [
              "<Figure size 432x288 with 2 Axes>"
            ]
          },
          "metadata": {
            "tags": []
          }
        }
      ]
    },
    {
      "cell_type": "code",
      "metadata": {
        "id": "EBExong4VTH1",
        "colab_type": "code",
        "outputId": "20dcabd0-b23b-4f86-dc67-14719fbedb92",
        "colab": {
          "base_uri": "https://localhost:8080/",
          "height": 33
        }
      },
      "source": [
        "model.save"
      ],
      "execution_count": 0,
      "outputs": [
        {
          "output_type": "execute_result",
          "data": {
            "text/plain": [
              "<bound method Network.save of <keras.engine.sequential.Sequential object at 0x7f789f0fde80>>"
            ]
          },
          "metadata": {
            "tags": []
          },
          "execution_count": 16
        }
      ]
    },
    {
      "cell_type": "code",
      "metadata": {
        "id": "s3JIcwRhhDpq",
        "colab_type": "code",
        "outputId": "a08d5831-d743-4f47-8df7-aa016150eadb",
        "colab": {
          "base_uri": "https://localhost:8080/",
          "height": 502
        }
      },
      "source": [
        "#import numpy as np\n",
        "#from keras.preprocessing import image\n",
        "#test_image = image.load_img(\"/content/gdrive/My Drive/colab/chop.jpg\",target_size=(32, 32))\n",
        "#test_image = image.img_to_array(test_image)\n",
        "#test_image = np.expand_dims(test_image,axis=0)\n",
        "#result = model.predict(test_image)\n",
        "#train_generator.class_indices\n",
        "#print(result)\n",
        "\n",
        "\n",
        "from keras.preprocessing import image\n",
        "\n",
        "test = image.load_img('/content/gdrive/My Drive/colab/resized_data_set/test/puri/puri.jpg',target_size=(32, 32))\n",
        "test = image.img_to_array(test)\n",
        "test = np.expand_dims(test, axis=0)\n",
        "\n",
        "print(model.predict(test))\n",
        "print(train_generator.class_indices)\n",
        "\n",
        "Y_pred = model.predict_generator(validation_generator, 500/30)\n",
        "y_pred = np.argmax(Y_pred, axis=1)\n",
        "\n",
        "\n",
        "from sklearn.metrics import confusion_matrix\n",
        "cm = confusion_matrix(validation_generator.classes, y_pred)\n",
        "target_names = train_generator.class_indices\n",
        "\n",
        "\n",
        "\n",
        "\n",
        "plot_confusion_matrix(cm,target_names)"
      ],
      "execution_count": 0,
      "outputs": [
        {
          "output_type": "stream",
          "text": [
            "[[1. 0. 0. 0. 0.]]\n",
            "{'beguni': 0, 'piyaju': 1, 'puri': 2, 'singara': 3, 'somosa': 4}\n"
          ],
          "name": "stdout"
        },
        {
          "output_type": "display_data",
          "data": {
            "image/png": "[encoded data removed]",
            "text/plain": [
              "<Figure size 576x432 with 2 Axes>"
            ]
          },
          "metadata": {
            "tags": []
          }
        }
      ]
    },
    {
      "cell_type": "code",
      "metadata": {
        "id": "xVFsiMWFj3Eb",
        "colab_type": "code",
        "colab": {}
      },
      "source": [
        "def plot_confusion_matrix(cm,\n",
        "                          target_names,\n",
        "                          title='Confusion matrix',\n",
        "                          cmap=None,\n",
        "                          normalize=False):\n",
        "  \n",
        "   \n",
        "\n",
        "    accuracy = np.trace(cm) / float(np.sum(cm))\n",
        "    misclass = 1 - accuracy\n",
        "\n",
        "    if cmap is None:\n",
        "        cmap = plt.get_cmap('Blues')\n",
        "\n",
        "    plt.figure(figsize=(8, 6))\n",
        "    plt.imshow(cm, interpolation='nearest', cmap=cmap)\n",
        "    plt.title(title)\n",
        "    plt.colorbar()\n",
        "\n",
        "    if target_names is not None:\n",
        "        tick_marks = np.arange(len(target_names))\n",
        "        plt.xticks(tick_marks, target_names, rotation=45)\n",
        "        plt.yticks(tick_marks, target_names)\n",
        "\n",
        "    if normalize:\n",
        "        cm = cm.astype('float') / cm.sum(axis=1)[:, np.newaxis]\n",
        "\n",
        "\n",
        "    thresh = cm.max() / 1.5 if normalize else cm.max() / 2\n",
        "    for i, j in itertools.product(range(cm.shape[0]), range(cm.shape[1])):\n",
        "        if normalize:\n",
        "            plt.text(j, i, \"{:0.4f}\".format(cm[i, j]),\n",
        "                     horizontalalignment=\"center\",\n",
        "                     color=\"white\" if cm[i, j] > thresh else \"black\")\n",
        "        else:\n",
        "            plt.text(j, i, \"{:,}\".format(cm[i, j]),\n",
        "                     horizontalalignment=\"center\",\n",
        "                     color=\"white\" if cm[i, j] > thresh else \"black\")\n",
        "\n",
        "\n",
        "    plt.tight_layout()\n",
        "    plt.ylabel('True label')\n",
        "    plt.xlabel('Predicted label\\naccuracy={:0.4f}; misclass={:0.4f}'.format(accuracy, misclass))\n",
        "    plt.show()"
      ],
      "execution_count": 0,
      "outputs": []
    },
    {
      "cell_type": "code",
      "metadata": {
        "id": "yKHLOoPD56NP",
        "colab_type": "code",
        "colab": {}
      },
      "source": [
        ""
      ],
      "execution_count": 0,
      "outputs": []
    }
  ]
}